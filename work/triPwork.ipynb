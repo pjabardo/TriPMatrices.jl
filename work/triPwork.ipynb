{
 "cells": [
  {
   "cell_type": "markdown",
   "metadata": {},
   "source": [
    "# Debugging the TriPMatrices package"
   ]
  },
  {
   "cell_type": "code",
   "execution_count": 3,
   "metadata": {
    "collapsed": false
   },
   "outputs": [
    {
     "data": {
      "text/plain": [
       "TriPMatrices"
      ]
     },
     "execution_count": 3,
     "metadata": {},
     "output_type": "execute_result"
    }
   ],
   "source": [
    "cd(\"../src\")\n",
    "include(\"TriPMatrices.jl\")"
   ]
  },
  {
   "cell_type": "code",
   "execution_count": 5,
   "metadata": {
    "collapsed": false
   },
   "outputs": [
    {
     "data": {
      "text/plain": [
       "6x6 TriPMatrices.TridiagonalP{Float64}:\n",
       " 6.0  3.0  0.0  0.0   0.0   2.0\n",
       " 3.0  7.0  4.0  0.0   0.0   0.0\n",
       " 0.0  4.0  8.0  5.0   0.0   0.0\n",
       " 0.0  0.0  5.0  9.0   6.0   0.0\n",
       " 0.0  0.0  0.0  6.0  10.0   7.0\n",
       " 8.0  0.0  0.0  0.0   7.0  11.0"
      ]
     },
     "execution_count": 5,
     "metadata": {},
     "output_type": "execute_result"
    }
   ],
   "source": [
    "n = 6\n",
    "D = [linspace(1,n,n);] + 5.0\n",
    "Dl = [linspace(1,n,n);] + 1.0\n",
    "Du = [linspace(1,n,n);] + 2.0\n",
    "\n",
    "M = TriPMatrices.TridiagonalP(Dl, D, Du)\n"
   ]
  },
  {
   "cell_type": "code",
   "execution_count": 6,
   "metadata": {
    "collapsed": false
   },
   "outputs": [
    {
     "data": {
      "text/plain": [
       "6x6 Array{Float64,2}:\n",
       " 6.0  3.0  0.0  0.0   0.0   2.0\n",
       " 3.0  7.0  4.0  0.0   0.0   0.0\n",
       " 0.0  4.0  8.0  5.0   0.0   0.0\n",
       " 0.0  0.0  5.0  9.0   6.0   0.0\n",
       " 0.0  0.0  0.0  6.0  10.0   7.0\n",
       " 8.0  0.0  0.0  0.0   7.0  11.0"
      ]
     },
     "execution_count": 6,
     "metadata": {},
     "output_type": "execute_result"
    }
   ],
   "source": [
    "Mf = full(M)"
   ]
  },
  {
   "cell_type": "code",
   "execution_count": 10,
   "metadata": {
    "collapsed": false
   },
   "outputs": [
    {
     "data": {
      "text/plain": [
       "3.3306690738754696e-16"
      ]
     },
     "execution_count": 10,
     "metadata": {},
     "output_type": "execute_result"
    }
   ],
   "source": [
    "maxabs(inv(Mf) - inv(M))"
   ]
  },
  {
   "cell_type": "code",
   "execution_count": 8,
   "metadata": {
    "collapsed": false
   },
   "outputs": [
    {
     "data": {
      "text/plain": [
       "6x6 Array{Float64,2}:\n",
       "  0.0807896   0.0137812  -0.0847094   0.12451    -0.116174    0.0592398\n",
       "  0.103173    0.0836807   0.026179   -0.108831    0.141431   -0.10876  \n",
       " -0.241145    0.0932229   0.0177187   0.0970717  -0.160373    0.1459   \n",
       "  0.303294   -0.216101    0.150707   -0.0682499   0.143453   -0.146432 \n",
       " -0.253986    0.246466   -0.240826    0.188148   -0.0815346   0.098065 \n",
       "  0.102872   -0.166865    0.21486    -0.210284    0.136376   -0.0145794"
      ]
     },
     "execution_count": 8,
     "metadata": {},
     "output_type": "execute_result"
    }
   ],
   "source": [
    "inv(M)"
   ]
  },
  {
   "cell_type": "code",
   "execution_count": null,
   "metadata": {
    "collapsed": true
   },
   "outputs": [],
   "source": []
  }
 ],
 "metadata": {
  "kernelspec": {
   "display_name": "Julia 0.4.0-rc4",
   "language": "julia",
   "name": "julia-0.4"
  },
  "language_info": {
   "file_extension": ".jl",
   "mimetype": "application/julia",
   "name": "julia",
   "version": "0.4.0"
  }
 },
 "nbformat": 4,
 "nbformat_minor": 0
}
