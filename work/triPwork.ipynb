{
 "cells": [
  {
   "cell_type": "markdown",
   "metadata": {},
   "source": [
    "# Debugging the TriPMatrices package"
   ]
  },
  {
   "cell_type": "markdown",
   "metadata": {},
   "source": [
    "## Generic matrices"
   ]
  },
  {
   "cell_type": "code",
   "execution_count": 171,
   "metadata": {
    "collapsed": false
   },
   "outputs": [
    {
     "name": "stderr",
     "output_type": "stream",
     "text": [
      "WARNING: replacing module TriPMatrices\n"
     ]
    },
    {
     "data": {
      "text/plain": [
       "TriPMatrices"
      ]
     },
     "execution_count": 171,
     "metadata": {},
     "output_type": "execute_result"
    }
   ],
   "source": [
    "cd(\"../src\")\n",
    "include(\"TriPMatrices.jl\")"
   ]
  },
  {
   "cell_type": "code",
   "execution_count": 172,
   "metadata": {
    "collapsed": false
   },
   "outputs": [
    {
     "data": {
      "text/plain": [
       "6x6 TriPMatrices.TridiagonalP{Float64}:\n",
       " 6.0  3.0  0.0  0.0   0.0   2.0\n",
       " 3.0  7.0  4.0  0.0   0.0   0.0\n",
       " 0.0  4.0  8.0  5.0   0.0   0.0\n",
       " 0.0  0.0  5.0  9.0   6.0   0.0\n",
       " 0.0  0.0  0.0  6.0  10.0   7.0\n",
       " 8.0  0.0  0.0  0.0   7.0  11.0"
      ]
     },
     "execution_count": 172,
     "metadata": {},
     "output_type": "execute_result"
    }
   ],
   "source": [
    "n = 6\n",
    "D = [linspace(1,n,n);] + 5.0\n",
    "Dl = [linspace(1,n,n);] + 1.0\n",
    "Du = [linspace(1,n,n);] + 2.0\n",
    "\n",
    "M = TriPMatrices.TridiagonalP(Dl, D, Du)\n"
   ]
  },
  {
   "cell_type": "code",
   "execution_count": 173,
   "metadata": {
    "collapsed": false
   },
   "outputs": [
    {
     "data": {
      "text/plain": [
       "6x6 Array{Float64,2}:\n",
       " 6.0  3.0  0.0  0.0   0.0   2.0\n",
       " 3.0  7.0  4.0  0.0   0.0   0.0\n",
       " 0.0  4.0  8.0  5.0   0.0   0.0\n",
       " 0.0  0.0  5.0  9.0   6.0   0.0\n",
       " 0.0  0.0  0.0  6.0  10.0   7.0\n",
       " 8.0  0.0  0.0  0.0   7.0  11.0"
      ]
     },
     "execution_count": 173,
     "metadata": {},
     "output_type": "execute_result"
    }
   ],
   "source": [
    "Mf = full(M)"
   ]
  },
  {
   "cell_type": "code",
   "execution_count": 174,
   "metadata": {
    "collapsed": false
   },
   "outputs": [
    {
     "data": {
      "text/plain": [
       "3.3306690738754696e-16"
      ]
     },
     "execution_count": 174,
     "metadata": {},
     "output_type": "execute_result"
    }
   ],
   "source": [
    "maxabs(inv(Mf) - inv(M))"
   ]
  },
  {
   "cell_type": "markdown",
   "metadata": {},
   "source": [
    "## Symmetric matrices"
   ]
  },
  {
   "cell_type": "code",
   "execution_count": 175,
   "metadata": {
    "collapsed": false
   },
   "outputs": [
    {
     "name": "stderr",
     "output_type": "stream",
     "text": [
      "\n",
      "WARNING: deprecated syntax \"{a,b, ...}\" at In[175]:1.\n",
      "Use \"Any[a,b, ...]\" instead.\n"
     ]
    },
    {
     "data": {
      "text/plain": [
       "1-element Array{Any,1}:\n",
       " 6x6 TriPMatrices.SymTridiagonalP{Float64}:\n",
       " 6.0  3.0  0.0  0.0   0.0   8.0\n",
       " 3.0  7.0  4.0  0.0   0.0   0.0\n",
       " 0.0  4.0  8.0  5.0   0.0   0.0\n",
       " 0.0  0.0  5.0  9.0   6.0   0.0\n",
       " 0.0  0.0  0.0  6.0  10.0   7.0\n",
       " 8.0  0.0  0.0  0.0   7.0  11.0"
      ]
     },
     "execution_count": 175,
     "metadata": {},
     "output_type": "execute_result"
    }
   ],
   "source": [
    "{S = TriPMatrices.SymTridiagonalP(D, Du)}"
   ]
  },
  {
   "cell_type": "code",
   "execution_count": 176,
   "metadata": {
    "collapsed": false
   },
   "outputs": [
    {
     "data": {
      "text/plain": [
       "TriPMatrices.Lixo{Float64,TriPMatrices.SymTridiagonalP{T}}(6x6 TriPMatrices.SymTridiagonalP{Float64}:\n",
       " 6.0  0.5       0.0       0.0       0.0       8.0\n",
       " 0.5  5.5       0.727273  0.0       0.0       0.0\n",
       " 0.0  0.727273  5.09091   0.982143  0.0       0.0\n",
       " 0.0  0.0       0.982143  4.08929   1.46725   0.0\n",
       " 0.0  0.0       0.0       1.46725   1.19651   7.0\n",
       " 8.0  0.0       0.0       0.0       7.0      11.0,'U')"
      ]
     },
     "execution_count": 176,
     "metadata": {},
     "output_type": "execute_result"
    }
   ],
   "source": [
    "iS = TriPMatrices.cholfact!(copy(S))"
   ]
  },
  {
   "cell_type": "code",
   "execution_count": null,
   "metadata": {
    "collapsed": false
   },
   "outputs": [],
   "source": []
  },
  {
   "cell_type": "code",
   "execution_count": null,
   "metadata": {
    "collapsed": true
   },
   "outputs": [],
   "source": []
  }
 ],
 "metadata": {
  "kernelspec": {
   "display_name": "Julia 0.4.0-rc4",
   "language": "julia",
   "name": "julia-0.4"
  },
  "language_info": {
   "file_extension": ".jl",
   "mimetype": "application/julia",
   "name": "julia",
   "version": "0.4.0"
  }
 },
 "nbformat": 4,
 "nbformat_minor": 0
}
